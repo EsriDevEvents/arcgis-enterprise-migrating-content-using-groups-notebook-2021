{
 "cells": [
  {
   "cell_type": "markdown",
   "metadata": {},
   "source": [
    "## DevSummit Group Migration Notebook Demo using the ArcGIS API for Python"
   ]
  },
  {
   "cell_type": "markdown",
   "metadata": {},
   "source": [
    "#### Connect to 10.8.1 Source Enterprise Portal to Extract Group Data"
   ]
  },
  {
   "cell_type": "code",
   "execution_count": null,
   "metadata": {},
   "outputs": [],
   "source": [
    "from arcgis.gis import GIS\n",
    "source = GIS(url=\"https://source.esri.com/portal\", username=\"bmajor\", password=\"super.secret1\", verify_cert=False)\n",
    "source"
   ]
  },
  {
   "cell_type": "markdown",
   "metadata": {},
   "source": [
    "#### Create Export Package of all items supported"
   ]
  },
  {
   "cell_type": "code",
   "execution_count": 157,
   "metadata": {},
   "outputs": [
    {
     "data": {
      "text/html": [
       "<div class=\"9item_container\" style=\"height: auto; overflow: hidden; border: 1px solid #cfcfcf; border-radius: 2px; background: #f6fafa; line-height: 1.21429em; padding: 10px;\">\n",
       "                    <div class=\"item_left\" style=\"width: 210px; float: left;\">\n",
       "                       <a href='https://wdcsol0000612.esri.com/portal/home/group.html?id=6a9f19ccdc264e8e94ccb1c569a2e73d' target='_blank'>\n",
       "                        <img src='data:image/png;base64,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' ' class=\"itemThumbnail\">\n",
       "                       </a>\n",
       "                    </div>\n",
       "\n",
       "                    <div class=\"item_right\" style=\"float: none; width: auto; overflow: hidden;\">\n",
       "                        <a href='https://wdcsol0000612.esri.com/portal/home/group.html?id=6a9f19ccdc264e8e94ccb1c569a2e73d' target='_blank'><b>NPS Apps and Data (Dev)</b>\n",
       "                        </a>\n",
       "                        <br/>\n",
       "                        <br/><b>Summary</b>: For data and apps on NPS \n",
       "                        <br/><b>Description</b>: None\n",
       "                        <br/><b>Owner</b>: portaladmin\n",
       "                        <br/><b>Created</b>: February 08, 2021\n",
       "\n",
       "                    </div>\n",
       "                </div>\n",
       "                "
      ],
      "text/plain": [
       "<Group title:\"NPS Apps and Data (Dev)\" owner:portaladmin>"
      ]
     },
     "execution_count": 157,
     "metadata": {},
     "output_type": "execute_result"
    }
   ],
   "source": [
    "exportGroup = source.groups.get(\"6a9f19ccdc264e8e94ccb1c569a2e73d\")\n",
    "exportGroup"
   ]
  },
  {
   "cell_type": "code",
   "execution_count": 158,
   "metadata": {},
   "outputs": [
    {
     "data": {
      "text/html": [
       "<div class=\"item_container\" style=\"height: auto; overflow: hidden; border: 1px solid #cfcfcf; border-radius: 2px; background: #f6fafa; line-height: 1.21429em; padding: 10px;\">\n",
       "                    <div class=\"item_left\" style=\"width: 210px; float: left;\">\n",
       "                       <a href='https://wdcsol0000612.esri.com/portal/home/item.html?id=6daf84e5244949a8aa318a5071b2743d' target='_blank'>\n",
       "                        <img src='https://wdcsol0000612.esri.com/portal/portalimages/desktopapp.png' class=\"itemThumbnail\">\n",
       "                       </a>\n",
       "                    </div>\n",
       "\n",
       "                    <div class=\"item_right\"     style=\"float: none; width: auto; overflow: hidden;\">\n",
       "                        <a href='https://wdcsol0000612.esri.com/portal/home/item.html?id=6daf84e5244949a8aa318a5071b2743d' target='_blank'><b>NPS_Apps_and_Data_(Dev)_2021212_104654.epk</b>\n",
       "                        </a>\n",
       "                        <br/><img src='https://wdcsol0000612.esri.com/portal/home/js/jsapi/esri/css/images/item_type_icons/layers16.png' style=\"vertical-align:middle;\">Export Package by portaladmin\n",
       "                        <br/>Last Modified: February 12, 2021\n",
       "                        <br/>0 comments, 0 views\n",
       "                    </div>\n",
       "                </div>\n",
       "                "
      ],
      "text/plain": [
       "<Item title:\"NPS_Apps_and_Data_(Dev)_2021212_104654.epk\" type:Export Package owner:portaladmin>"
      ]
     },
     "execution_count": 158,
     "metadata": {},
     "output_type": "execute_result"
    }
   ],
   "source": [
    "epk_job = exportGroup.migration.create()\n",
    "epk_item = epk_job.result()\n",
    "epk_item"
   ]
  },
  {
   "cell_type": "markdown",
   "metadata": {},
   "source": [
    "#### Download package"
   ]
  },
  {
   "cell_type": "code",
   "execution_count": 159,
   "metadata": {},
   "outputs": [
    {
     "name": "stdout",
     "output_type": "stream",
     "text": [
      "/tmp/NPSAppsandDataDev2021212104654.epk\n"
     ]
    }
   ],
   "source": [
    "fp = epk_item.download()\n",
    "print(fp)"
   ]
  },
  {
   "cell_type": "markdown",
   "metadata": {},
   "source": [
    "#### Connect to 10.9 Target Enterprise Portal to Import Package"
   ]
  },
  {
   "cell_type": "code",
   "execution_count": null,
   "metadata": {},
   "outputs": [],
   "source": [
    "target = GIS(url=\"https://target.esri.com/portal\", username=\"bmajor\", password=\"super.secret1\", verify_cert=False)\n",
    "target"
   ]
  },
  {
   "cell_type": "markdown",
   "metadata": {
    "heading_collapsed": true
   },
   "source": [
    "#### Clean up previous Demo Run"
   ]
  },
  {
   "cell_type": "code",
   "execution_count": 161,
   "metadata": {
    "hidden": true
   },
   "outputs": [
    {
     "name": "stdout",
     "output_type": "stream",
     "text": [
      "Folder doesn't exist.\n"
     ]
    },
    {
     "data": {
      "text/plain": [
       "False"
      ]
     },
     "execution_count": 161,
     "metadata": {},
     "output_type": "execute_result"
    }
   ],
   "source": [
    "# Clean up previous data\n",
    "for i in target.content.search(\"DEVtoTEST Migration Package\"):\n",
    "    assert i.delete()\n",
    "for i in target.content.search(\"DEVtoTEST Migration Package Subset\"):\n",
    "    assert i.delete()\n",
    "for grp in target.groups.search(\"TEST Group Migration Demo\"):\n",
    "    assert grp.delete()\n",
    "target.content.delete_folder('TEST_Group_Migration_Demo')"
   ]
  },
  {
   "cell_type": "markdown",
   "metadata": {},
   "source": [
    "#### Add Export Package to Target Portal"
   ]
  },
  {
   "cell_type": "code",
   "execution_count": 162,
   "metadata": {},
   "outputs": [],
   "source": [
    "pitem = target.content.add({'title': \"DEVtoTEST Migration Package\", \"tags\": ['Migration', 'TEST'],\n",
    "                            'type': 'Export Package'}, data=fp)"
   ]
  },
  {
   "cell_type": "code",
   "execution_count": 163,
   "metadata": {},
   "outputs": [
    {
     "data": {
      "text/html": [
       "<div class=\"item_container\" style=\"height: auto; overflow: hidden; border: 1px solid #cfcfcf; border-radius: 2px; background: #f6fafa; line-height: 1.21429em; padding: 10px;\">\n",
       "                    <div class=\"item_left\" style=\"width: 210px; float: left;\">\n",
       "                       <a href='https://datasciencedev.esri.com/portal/home/item.html?id=afc726f217e8482dbbe8cfd4fcccb095' target='_blank'>\n",
       "                        <img src='https://datasciencedev.esri.com/portal/portalimages/desktopapp.png' class=\"itemThumbnail\">\n",
       "                       </a>\n",
       "                    </div>\n",
       "\n",
       "                    <div class=\"item_right\"     style=\"float: none; width: auto; overflow: hidden;\">\n",
       "                        <a href='https://datasciencedev.esri.com/portal/home/item.html?id=afc726f217e8482dbbe8cfd4fcccb095' target='_blank'><b>DEVtoTEST Migration Package</b>\n",
       "                        </a>\n",
       "                        <br/><img src='https://datasciencedev.esri.com/portal/home/js/jsapi/esri/css/images/item_type_icons/layers16.png' style=\"vertical-align:middle;\">Export Package by bmajor\n",
       "                        <br/>Last Modified: February 12, 2021\n",
       "                        <br/>0 comments, 0 views\n",
       "                    </div>\n",
       "                </div>\n",
       "                "
      ],
      "text/plain": [
       "<Item title:\"DEVtoTEST Migration Package\" type:Export Package owner:bmajor>"
      ]
     },
     "execution_count": 163,
     "metadata": {},
     "output_type": "execute_result"
    }
   ],
   "source": [
    "pitem"
   ]
  },
  {
   "cell_type": "markdown",
   "metadata": {},
   "source": [
    "#### Create Group"
   ]
  },
  {
   "cell_type": "code",
   "execution_count": 164,
   "metadata": {},
   "outputs": [
    {
     "data": {
      "text/plain": [
       "{'results': [{'itemId': 'afc726f217e8482dbbe8cfd4fcccb095',\n",
       "   'success': True,\n",
       "   'notSharedWith': ['']}]}"
      ]
     },
     "execution_count": 164,
     "metadata": {},
     "output_type": "execute_result"
    }
   ],
   "source": [
    "new_group = target.groups.create(title='TEST Group Migration Demo', tags='Migration,TEST')\n",
    "# Share the item to new group\n",
    "pitem.share(groups=[new_group])"
   ]
  },
  {
   "cell_type": "markdown",
   "metadata": {},
   "source": [
    "#### Let's inspect the package"
   ]
  },
  {
   "cell_type": "code",
   "execution_count": 165,
   "metadata": {},
   "outputs": [
    {
     "name": "stdout",
     "output_type": "stream",
     "text": [
      "{'nextStart': -1,\n",
      " 'num': 6,\n",
      " 'packageSummary': {'fileName': 'NPS_Apps_and_Data_(Dev)_2021212_104654',\n",
      "                    'id': 'afc726f217e8482dbbe8cfd4fcccb095',\n",
      "                    'packageCreated': 1613155614848,\n",
      "                    'packageVersion': '1.0',\n",
      "                    'sourcePortalInfo': {'httpUrl': 'http://wdcsol0000612.esri.com/portal',\n",
      "                                         'httpsUrl': 'https://wdcsol0000612.esri.com/portal',\n",
      "                                         'isPortal': True,\n",
      "                                         'portalId': '4fafe5cf-1d6a-41ae-a1af-cac53f200aa4',\n",
      "                                         'version': '10.8.1'}},\n",
      " 'results': [{'canImport': True,\n",
      "              'created': 1613076529327,\n",
      "              'exists': False,\n",
      "              'id': '9ecc5c44dd2542e5ad826eac73ffa673',\n",
      "              'modified': 1613147323671,\n",
      "              'size': 707,\n",
      "              'title': 'NPS Places App',\n",
      "              'type': 'Web Mapping Application'},\n",
      "             {'canImport': True,\n",
      "              'created': 1613075976395,\n",
      "              'exists': False,\n",
      "              'id': '22bd340a9ea1437fac7e31cb90b6d0fc',\n",
      "              'modified': 1613147323354,\n",
      "              'size': 2436449,\n",
      "              'title': 'NPSPoints_of_Interest_POIs_Web_Mercator',\n",
      "              'type': 'Feature Service'},\n",
      "             {'canImport': True,\n",
      "              'created': 1613076581261,\n",
      "              'exists': False,\n",
      "              'id': 'f73d774899514b579e88822644aa2b17',\n",
      "              'modified': 1613147323827,\n",
      "              'size': 152677,\n",
      "              'title': 'NPS Apps Documentation',\n",
      "              'type': 'PDF'},\n",
      "             {'canImport': True,\n",
      "              'created': 1613076624574,\n",
      "              'exists': False,\n",
      "              'id': '22ea2cd18e994a12a8a4e75ba8fe77ac',\n",
      "              'modified': 1613147324015,\n",
      "              'size': 8397180,\n",
      "              'title': 'NPS Presentation',\n",
      "              'type': 'Microsoft Powerpoint'},\n",
      "             {'canImport': True,\n",
      "              'created': 1613075975844,\n",
      "              'exists': False,\n",
      "              'id': '70ae5151fd864bbc832167887c7b9d74',\n",
      "              'modified': 1613147323461,\n",
      "              'size': 2436449,\n",
      "              'title': 'NPSPoints_of_Interest_POIs_Web_Mercator',\n",
      "              'type': 'Shapefile'},\n",
      "             {'canImport': True,\n",
      "              'created': 1613076518644,\n",
      "              'exists': False,\n",
      "              'id': 'bc15d01b9ee04a31a08c9b8e6342ab2e',\n",
      "              'modified': 1613147323576,\n",
      "              'size': 6183,\n",
      "              'title': 'NPS Places Map',\n",
      "              'type': 'Web Map'}],\n",
      " 'start': 1,\n",
      " 'total': 6}\n"
     ]
    }
   ],
   "source": [
    "m = new_group.migration\n",
    "resp = m.inspect(pitem)\n",
    "from pprint import pprint\n",
    "pprint(resp)"
   ]
  },
  {
   "cell_type": "markdown",
   "metadata": {},
   "source": [
    "#### Import  Package into new Group"
   ]
  },
  {
   "cell_type": "code",
   "execution_count": 166,
   "metadata": {},
   "outputs": [
    {
     "name": "stdout",
     "output_type": "stream",
     "text": [
      "{'itemsImported': [<Item title:\"NPSPoints_of_Interest_POIs_Web_Mercator\" type:Shapefile owner:bmajor>, <Item title:\"NPSPoints_of_Interest_POIs_Web_Mercator\" type:Feature Layer Collection owner:bmajor>, <Item title:\"NPS Places Map\" type:Web Map owner:bmajor>, <Item title:\"NPS Places App\" type:Web Mapping Application owner:bmajor>, <Item title:\"NPS Apps Documentation\" type:PDF owner:bmajor>, <Item title:\"NPS Presentation\" type:Microsoft Powerpoint owner:bmajor>], 'itemsSkipped': [], 'itemsFailedImport': []}\n"
     ]
    }
   ],
   "source": [
    "res = m.load(pitem, overwrite=True, future=False)\n",
    "print(res)"
   ]
  },
  {
   "cell_type": "markdown",
   "metadata": {},
   "source": [
    "#### Do Item IDs match???"
   ]
  },
  {
   "cell_type": "code",
   "execution_count": 167,
   "metadata": {},
   "outputs": [
    {
     "name": "stdout",
     "output_type": "stream",
     "text": [
      "22bd340a9ea1437fac7e31cb90b6d0fc 22bd340a9ea1437fac7e31cb90b6d0fc\n"
     ]
    }
   ],
   "source": [
    "source_fs = source.content.search(\"NPSPoints_of_Interest_POIs_Web_Mercator\", item_type=\"Feature Service\")[0]\n",
    "target_fs = target.content.search(\"NPSPoints_of_Interest_POIs_Web_Mercator\", item_type=\"Feature Service\")[0]\n",
    "print(source_fs.itemid, target_fs.itemid)\n",
    "assert source_fs.itemid == target_fs.itemid, \"They don't match :(\""
   ]
  },
  {
   "cell_type": "markdown",
   "metadata": {},
   "source": [
    "### Suppose I only want to export a subset of items?"
   ]
  },
  {
   "cell_type": "code",
   "execution_count": 168,
   "metadata": {},
   "outputs": [],
   "source": [
    "epk_job_subset = exportGroup.migration.create(items=[source_fs])\n",
    "epk_item_subset = epk_job_subset.result()"
   ]
  },
  {
   "cell_type": "code",
   "execution_count": 169,
   "metadata": {},
   "outputs": [
    {
     "name": "stdout",
     "output_type": "stream",
     "text": [
      "/tmp/NPSAppsandDataDev2021212105637.epk\n"
     ]
    }
   ],
   "source": [
    "fp_subset = epk_item_subset.download()\n",
    "print(fp_subset)"
   ]
  },
  {
   "cell_type": "code",
   "execution_count": 170,
   "metadata": {},
   "outputs": [
    {
     "data": {
      "text/html": [
       "<div class=\"item_container\" style=\"height: auto; overflow: hidden; border: 1px solid #cfcfcf; border-radius: 2px; background: #f6fafa; line-height: 1.21429em; padding: 10px;\">\n",
       "                    <div class=\"item_left\" style=\"width: 210px; float: left;\">\n",
       "                       <a href='https://datasciencedev.esri.com/portal/home/item.html?id=106a90553fe64e00bfad7464d96adc39' target='_blank'>\n",
       "                        <img src='https://datasciencedev.esri.com/portal/portalimages/desktopapp.png' class=\"itemThumbnail\">\n",
       "                       </a>\n",
       "                    </div>\n",
       "\n",
       "                    <div class=\"item_right\"     style=\"float: none; width: auto; overflow: hidden;\">\n",
       "                        <a href='https://datasciencedev.esri.com/portal/home/item.html?id=106a90553fe64e00bfad7464d96adc39' target='_blank'><b>DEVtoTEST Migration Package Subset</b>\n",
       "                        </a>\n",
       "                        <br/><img src='https://datasciencedev.esri.com/portal/home/js/jsapi/esri/css/images/item_type_icons/layers16.png' style=\"vertical-align:middle;\">Export Package by bmajor\n",
       "                        <br/>Last Modified: February 12, 2021\n",
       "                        <br/>0 comments, 0 views\n",
       "                    </div>\n",
       "                </div>\n",
       "                "
      ],
      "text/plain": [
       "<Item title:\"DEVtoTEST Migration Package Subset\" type:Export Package owner:bmajor>"
      ]
     },
     "execution_count": 170,
     "metadata": {},
     "output_type": "execute_result"
    }
   ],
   "source": [
    "pitem_subset = target.content.add({'title': \"DEVtoTEST Migration Package Subset\", \"tags\": ['Migration', 'TEST'],\n",
    "                            'type': 'Export Package'}, data=fp_subset)\n",
    "pitem_subset"
   ]
  },
  {
   "cell_type": "code",
   "execution_count": 171,
   "metadata": {},
   "outputs": [
    {
     "data": {
      "text/plain": [
       "{'results': [{'itemId': '106a90553fe64e00bfad7464d96adc39',\n",
       "   'success': True,\n",
       "   'notSharedWith': ['']}]}"
      ]
     },
     "execution_count": 171,
     "metadata": {},
     "output_type": "execute_result"
    }
   ],
   "source": [
    "pitem_subset.share(groups=[new_group])"
   ]
  },
  {
   "cell_type": "markdown",
   "metadata": {},
   "source": [
    "#### Let's inspect it"
   ]
  },
  {
   "cell_type": "code",
   "execution_count": 172,
   "metadata": {},
   "outputs": [
    {
     "name": "stdout",
     "output_type": "stream",
     "text": [
      "{'nextStart': -1,\n",
      " 'num': 2,\n",
      " 'packageSummary': {'fileName': 'NPS_Apps_and_Data_(Dev)_2021212_105637',\n",
      "                    'id': '106a90553fe64e00bfad7464d96adc39',\n",
      "                    'packageCreated': 1613156197777,\n",
      "                    'packageVersion': '1.0',\n",
      "                    'sourcePortalInfo': {'httpUrl': 'http://wdcsol0000612.esri.com/portal',\n",
      "                                         'httpsUrl': 'https://wdcsol0000612.esri.com/portal',\n",
      "                                         'isPortal': True,\n",
      "                                         'portalId': '4fafe5cf-1d6a-41ae-a1af-cac53f200aa4',\n",
      "                                         'version': '10.8.1'}},\n",
      " 'results': [{'canImport': True,\n",
      "              'created': 1613075976395,\n",
      "              'exists': True,\n",
      "              'id': '22bd340a9ea1437fac7e31cb90b6d0fc',\n",
      "              'modified': 1613147323354,\n",
      "              'size': 2436449,\n",
      "              'title': 'NPSPoints_of_Interest_POIs_Web_Mercator',\n",
      "              'type': 'Feature Service'},\n",
      "             {'canImport': True,\n",
      "              'created': 1613075975844,\n",
      "              'exists': True,\n",
      "              'id': '70ae5151fd864bbc832167887c7b9d74',\n",
      "              'modified': 1613147323461,\n",
      "              'size': 2436449,\n",
      "              'title': 'NPSPoints_of_Interest_POIs_Web_Mercator',\n",
      "              'type': 'Shapefile'}],\n",
      " 'start': 1,\n",
      " 'total': 2}\n"
     ]
    }
   ],
   "source": [
    "m = new_group.migration\n",
    "resp = m.inspect(pitem_subset)\n",
    "from pprint import pprint\n",
    "pprint(resp)"
   ]
  },
  {
   "cell_type": "markdown",
   "metadata": {},
   "source": [
    "#### Import"
   ]
  },
  {
   "cell_type": "code",
   "execution_count": 173,
   "metadata": {},
   "outputs": [
    {
     "name": "stdout",
     "output_type": "stream",
     "text": [
      "{'itemsImported': [<Item title:\"NPSPoints_of_Interest_POIs_Web_Mercator\" type:Shapefile owner:bmajor>, <Item title:\"NPSPoints_of_Interest_POIs_Web_Mercator\" type:Feature Layer Collection owner:bmajor>], 'itemsSkipped': [], 'itemsFailedImport': []}\n"
     ]
    }
   ],
   "source": [
    "res = m.load(pitem_subset, overwrite=True, future=False)\n",
    "print(res)"
   ]
  },
  {
   "cell_type": "markdown",
   "metadata": {},
   "source": [
    "### Suppose I want to run this on a schedule?"
   ]
  }
 ],
 "metadata": {
  "esriNotebookRuntime": {
   "notebookRuntimeName": "ArcGIS Notebook Python 3 Standard",
   "notebookRuntimeVersion": "5.0"
  },
  "kernelspec": {
   "display_name": "Python 3",
   "language": "python",
   "name": "python3"
  },
  "language_info": {
   "codemirror_mode": {
    "name": "ipython",
    "version": 3
   },
   "file_extension": ".py",
   "mimetype": "text/x-python",
   "name": "python",
   "nbconvert_exporter": "python",
   "pygments_lexer": "ipython3",
   "version": "3.7.9"
  }
 },
 "nbformat": 4,
 "nbformat_minor": 2
}
